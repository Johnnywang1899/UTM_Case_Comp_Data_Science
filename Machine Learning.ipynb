{
 "cells": [
  {
   "cell_type": "code",
   "execution_count": 35,
   "id": "ae4b8a41",
   "metadata": {},
   "outputs": [],
   "source": [
    "import pandas as pd\n",
    "import numpy as np\n",
    "\n",
    "from sklearn.model_selection import train_test_split\n",
    "from sklearn.preprocessing import MinMaxScaler\n",
    "\n",
    "from sklearn.neighbors import KNeighborsRegressor\n",
    "from sklearn.linear_model import LinearRegression\n",
    "from sklearn.tree import DecisionTreeRegressor\n",
    "from sklearn.ensemble import RandomForestRegressor\n",
    "\n",
    "from sklearn.model_selection import KFold\n",
    "from sklearn import metrics\n",
    "from sklearn.model_selection import cross_val_score\n",
    "from sklearn.model_selection import GridSearchCV\n",
    "\n",
    "from sklearn.metrics import mean_squared_error"
   ]
  },
  {
   "cell_type": "code",
   "execution_count": 2,
   "id": "f024e471",
   "metadata": {},
   "outputs": [],
   "source": [
    "load = pd.read_table(\"ADV1.csv\", sep=',').dropna()"
   ]
  },
  {
   "cell_type": "code",
   "execution_count": 3,
   "id": "59717009",
   "metadata": {},
   "outputs": [],
   "source": [
    "num_predictor_names = ['BG', 'BPS', 'BPD', 'HR']\n",
    "cat_predictor_names = ['Activity']\n",
    "target_names = ['IR', 'DR', 'Stroop']\n",
    "\n",
    "num_X = load[num_predictor_names]\n",
    "cat_X = pd.get_dummies(load[cat_predictor_names])\n",
    "Y = load[target_names]"
   ]
  },
  {
   "cell_type": "markdown",
   "id": "4c4a15d4",
   "metadata": {},
   "source": [
    "### Train-Test Split"
   ]
  },
  {
   "cell_type": "code",
   "execution_count": 4,
   "id": "18134745",
   "metadata": {},
   "outputs": [],
   "source": [
    "selected_target_name = ['IR']\n",
    "test_size=0.3\n",
    "\n",
    "num_X_train, num_X_test, y_train, y_test = train_test_split(num_X, \n",
    "                                                            Y[selected_target_name],\n",
    "                                                            test_size=test_size,\n",
    "                                                            random_state=42)\n",
    "cat_X_train, cat_X_test, y_train2, y_test2 = train_test_split(cat_X,\n",
    "                                                              Y[selected_target_name],\n",
    "                                                              test_size=test_size,\n",
    "                                                              random_state=42)"
   ]
  },
  {
   "cell_type": "markdown",
   "id": "542fa906",
   "metadata": {},
   "source": [
    "### Min-Max Scaler on Numeric X"
   ]
  },
  {
   "cell_type": "code",
   "execution_count": 5,
   "id": "955da5a3",
   "metadata": {},
   "outputs": [],
   "source": [
    "scaler = MinMaxScaler()\n",
    "scaler.fit(num_X_train)\n",
    "rescaled_num_X_train = pd.DataFrame(scaler.transform(num_X_train), columns=num_predictor_names)\n",
    "rescaled_num_X_test = pd.DataFrame(scaler.transform(num_X_test), columns=num_predictor_names)"
   ]
  },
  {
   "cell_type": "markdown",
   "id": "be0047bd",
   "metadata": {},
   "source": [
    "### Bind Numeric and Categorical X"
   ]
  },
  {
   "cell_type": "code",
   "execution_count": 6,
   "id": "6d5971e3",
   "metadata": {},
   "outputs": [],
   "source": [
    "X_train = pd.concat([rescaled_num_X_train.reset_index(drop=True), cat_X_train.reset_index(drop=True)], \n",
    "                    axis=1)\n",
    "X_test = pd.concat([rescaled_num_X_test.reset_index(drop=True), cat_X_test.reset_index(drop=True)], \n",
    "                   axis=1)"
   ]
  },
  {
   "cell_type": "markdown",
   "id": "3f177082",
   "metadata": {},
   "source": [
    "### Machine Learning - Default Settings"
   ]
  },
  {
   "cell_type": "code",
   "execution_count": 7,
   "id": "4b070700",
   "metadata": {},
   "outputs": [],
   "source": [
    "score = \"neg_mean_squared_error\"\n",
    "num_folds = 10\n",
    "iterator = KFold(n_splits=num_folds, shuffle=True, random_state=42)"
   ]
  },
  {
   "cell_type": "code",
   "execution_count": 8,
   "id": "03143f07",
   "metadata": {},
   "outputs": [
    {
     "name": "stdout",
     "output_type": "stream",
     "text": [
      "LinearRegression() | negMSE: -233.05997180947776\n",
      "KNeighborsRegressor() | negMSE: -254.98719999999997\n",
      "DecisionTreeRegressor() | negMSE: -519.4300000000001\n",
      "RandomForestRegressor() | negMSE: -259.522279\n"
     ]
    }
   ],
   "source": [
    "model_list = [LinearRegression(), KNeighborsRegressor(), \n",
    "              DecisionTreeRegressor(), RandomForestRegressor()]\n",
    "\n",
    "for model in model_list:\n",
    "    cv_results = cross_val_score(estimator=model, \n",
    "                                 X=X_train, y=np.array(y_train).reshape(-1,), \n",
    "                                 cv=iterator, scoring=score)\n",
    "    \n",
    "    print(f\"{str(model)} | negMSE: {np.mean(cv_results)}\")"
   ]
  },
  {
   "cell_type": "markdown",
   "id": "82f37fce",
   "metadata": {},
   "source": [
    "### Tuning - KNN Regression"
   ]
  },
  {
   "cell_type": "code",
   "execution_count": 9,
   "id": "73384be2",
   "metadata": {},
   "outputs": [
    {
     "data": {
      "text/plain": [
       "dict_keys(['algorithm', 'leaf_size', 'metric', 'metric_params', 'n_jobs', 'n_neighbors', 'p', 'weights'])"
      ]
     },
     "execution_count": 9,
     "metadata": {},
     "output_type": "execute_result"
    }
   ],
   "source": [
    "model = KNeighborsRegressor()\n",
    "model.get_params().keys()"
   ]
  },
  {
   "cell_type": "code",
   "execution_count": 10,
   "id": "8382d739",
   "metadata": {},
   "outputs": [
    {
     "name": "stdout",
     "output_type": "stream",
     "text": [
      "Wall time: 6.4 s\n"
     ]
    }
   ],
   "source": [
    "%%time\n",
    "param_grid = dict(n_neighbors=np.arange(1,31), \n",
    "                  weights=['uniform', 'distance'], \n",
    "                  metric=['euclidean','minkowski'])\n",
    "\n",
    "grid = GridSearchCV(estimator=model, param_grid=param_grid, scoring=score, cv=iterator)\n",
    "knn_result = grid.fit(X_train, y_train)"
   ]
  },
  {
   "cell_type": "markdown",
   "id": "716c17e2",
   "metadata": {},
   "source": [
    "### Tuning - Decision Tree Regression"
   ]
  },
  {
   "cell_type": "code",
   "execution_count": 11,
   "id": "cae4e55f",
   "metadata": {},
   "outputs": [
    {
     "data": {
      "text/plain": [
       "dict_keys(['ccp_alpha', 'criterion', 'max_depth', 'max_features', 'max_leaf_nodes', 'min_impurity_decrease', 'min_impurity_split', 'min_samples_leaf', 'min_samples_split', 'min_weight_fraction_leaf', 'random_state', 'splitter'])"
      ]
     },
     "execution_count": 11,
     "metadata": {},
     "output_type": "execute_result"
    }
   ],
   "source": [
    "model = DecisionTreeRegressor()\n",
    "model.get_params().keys()"
   ]
  },
  {
   "cell_type": "code",
   "execution_count": 12,
   "id": "3c10e856",
   "metadata": {},
   "outputs": [
    {
     "name": "stdout",
     "output_type": "stream",
     "text": [
      "Wall time: 7.39 s\n"
     ]
    }
   ],
   "source": [
    "%%time\n",
    "param_grid = dict(max_depth=np.arange(1,15),\n",
    "                  max_features=np.arange(1,X_train.shape[1]))\n",
    "\n",
    "grid = GridSearchCV(estimator=model, param_grid=param_grid, scoring=score, cv=iterator)\n",
    "tree_result = grid.fit(X_train, y_train)"
   ]
  },
  {
   "cell_type": "markdown",
   "id": "2ef3bb37",
   "metadata": {},
   "source": [
    "### Tuning - Random Forest Regression"
   ]
  },
  {
   "cell_type": "code",
   "execution_count": 13,
   "id": "3fde34fe",
   "metadata": {},
   "outputs": [
    {
     "data": {
      "text/plain": [
       "dict_keys(['bootstrap', 'ccp_alpha', 'criterion', 'max_depth', 'max_features', 'max_leaf_nodes', 'max_samples', 'min_impurity_decrease', 'min_impurity_split', 'min_samples_leaf', 'min_samples_split', 'min_weight_fraction_leaf', 'n_estimators', 'n_jobs', 'oob_score', 'random_state', 'verbose', 'warm_start'])"
      ]
     },
     "execution_count": 13,
     "metadata": {},
     "output_type": "execute_result"
    }
   ],
   "source": [
    "model = RandomForestRegressor(bootstrap=True)\n",
    "model.get_params().keys()"
   ]
  },
  {
   "cell_type": "code",
   "execution_count": 18,
   "id": "100c38ad",
   "metadata": {},
   "outputs": [
    {
     "name": "stdout",
     "output_type": "stream",
     "text": [
      "Wall time: 6min 57s\n"
     ]
    }
   ],
   "source": [
    "%%time\n",
    "param_grid = dict(max_depth=np.arange(1,10),\n",
    "                  max_features=np.arange(1,X_train.shape[1]),\n",
    "                  max_samples=np.linspace(0.1,0.9,5))\n",
    "\n",
    "grid = GridSearchCV(estimator=model, param_grid=param_grid, scoring=score, cv=iterator)\n",
    "forest_result = grid.fit(X_train, np.array(y_train).reshape(-1,))"
   ]
  },
  {
   "cell_type": "markdown",
   "id": "95c0062b",
   "metadata": {},
   "source": [
    "### Performance Comparison"
   ]
  },
  {
   "cell_type": "code",
   "execution_count": 20,
   "id": "e919bb78",
   "metadata": {},
   "outputs": [
    {
     "data": {
      "text/plain": [
       "{'metric': 'euclidean', 'n_neighbors': 17, 'weights': 'uniform'}"
      ]
     },
     "execution_count": 20,
     "metadata": {},
     "output_type": "execute_result"
    }
   ],
   "source": [
    "knn_result.best_params_"
   ]
  },
  {
   "cell_type": "code",
   "execution_count": 29,
   "id": "1a7ddd0f",
   "metadata": {},
   "outputs": [
    {
     "data": {
      "text/plain": [
       "{'max_depth': 2, 'max_features': 6}"
      ]
     },
     "execution_count": 29,
     "metadata": {},
     "output_type": "execute_result"
    }
   ],
   "source": [
    "tree_result.best_params_"
   ]
  },
  {
   "cell_type": "code",
   "execution_count": 28,
   "id": "bcdcbfdc",
   "metadata": {},
   "outputs": [
    {
     "data": {
      "text/plain": [
       "{'max_depth': 2, 'max_features': 1, 'max_samples': 0.9}"
      ]
     },
     "execution_count": 28,
     "metadata": {},
     "output_type": "execute_result"
    }
   ],
   "source": [
    "forest_result.best_params_"
   ]
  },
  {
   "cell_type": "code",
   "execution_count": 30,
   "id": "9e80d560",
   "metadata": {},
   "outputs": [
    {
     "data": {
      "text/plain": [
       "-212.11100346020763"
      ]
     },
     "execution_count": 30,
     "metadata": {},
     "output_type": "execute_result"
    }
   ],
   "source": [
    "np.max(knn_result.cv_results_['mean_test_score'])"
   ]
  },
  {
   "cell_type": "code",
   "execution_count": 31,
   "id": "8208eec8",
   "metadata": {},
   "outputs": [
    {
     "data": {
      "text/plain": [
       "-192.0404529261839"
      ]
     },
     "execution_count": 31,
     "metadata": {},
     "output_type": "execute_result"
    }
   ],
   "source": [
    "np.max(tree_result.cv_results_['mean_test_score'])"
   ]
  },
  {
   "cell_type": "code",
   "execution_count": 32,
   "id": "7dfaf04d",
   "metadata": {},
   "outputs": [
    {
     "data": {
      "text/plain": [
       "-205.86504338159452"
      ]
     },
     "execution_count": 32,
     "metadata": {},
     "output_type": "execute_result"
    }
   ],
   "source": [
    "np.max(forest_result.cv_results_['mean_test_score'])"
   ]
  }
 ],
 "metadata": {
  "kernelspec": {
   "display_name": "Python 3",
   "language": "python",
   "name": "python3"
  },
  "language_info": {
   "codemirror_mode": {
    "name": "ipython",
    "version": 3
   },
   "file_extension": ".py",
   "mimetype": "text/x-python",
   "name": "python",
   "nbconvert_exporter": "python",
   "pygments_lexer": "ipython3",
   "version": "3.8.8"
  }
 },
 "nbformat": 4,
 "nbformat_minor": 5
}
